{
 "cells": [
  {
   "cell_type": "markdown",
   "metadata": {
    "_uuid": "6c1218fbc62365a1ee8c312544676ac8e5e24c43"
   },
   "source": [
    "# Stock Predictor RNN \n",
    "\n",
    "In this project, I perform a time series prediction using a Recurrent Neural Network regressor. For this example, I will predict Apple's stock price 7 days in advance.\n",
    "\n",
    "The particular network architecture I will employ for my RNN is a  [Long Term Short Memory (LTSM)](https://en.wikipedia.org/wiki/Long_short-term_memory), which helps significantly avoid technical problems with optimization of RNNs."
   ]
  },
  {
   "cell_type": "markdown",
   "metadata": {
    "_uuid": "9e2cfbbe392703d29bf8c895a50cc5aa2d92c199"
   },
   "source": [
    "## Step 1: Loading the data\n",
    "\n",
    "First let's load in our time series - a history of around 140 days of Apple's stock price. Then we need to perform a number of pre-processing steps to prepare it for use with an RNN model.  First off, it is good practice to normalize time series - by normalizing its range.  This helps us avoid serious numerical issues associated how common activation functions (like tanh) transform very large (positive or negative) numbers, as well as helping us to avoid related issues when computing derivatives.\n",
    "\n",
    "Here we normalize the series to lie in the range [0,1] [using this scikit function](http://scikit-learn.org/stable/modules/generated/sklearn.preprocessing.MinMaxScaler.html)."
   ]
  },
  {
   "cell_type": "code",
   "execution_count": 1,
   "metadata": {
    "_cell_guid": "8fa4d3ab-d84c-454e-b147-bbec7e16d8fd",
    "_uuid": "edaf59c5ec111bf128089f906d74db55d9aa22e5"
   },
   "outputs": [
    {
     "name": "stderr",
     "output_type": "stream",
     "text": [
      "Using TensorFlow backend.\n"
     ]
    }
   ],
   "source": [
    "\n",
    "import numpy as np # linear algebra\n",
    "import pandas as pd # data processing, CSV file I/O (e.g. pd.read_csv)\n",
    "from keras.models import Sequential\n",
    "from keras.layers import LSTM,Dense\n",
    "from sklearn.preprocessing import MinMaxScaler\n",
    "import matplotlib.pyplot as plt\n",
    "# Input data files are available in the \"../input/\" directory.\n",
    "# For example, running this (by clicking run or pressing Shift+Enter) will list the files in the input directory\n",
    "\n",
    "# from subprocess import check_output\n",
    "# print(check_output([\"ls\", \"../input\"]).decode(\"utf8\"))\n",
    "\n",
    "# Any results you write to the current directory are saved as output."
   ]
  },
  {
   "cell_type": "code",
   "execution_count": 2,
   "metadata": {
    "_uuid": "8a473cea5265e547b77f81bab5931669391a880b"
   },
   "outputs": [],
   "source": [
    "data = pd.read_csv('C:/Users/yangx/Desktop/laioffer/project/DL/HW3/stock-prediction-lstm-using-keras-master/data/sandp500/all_stocks_5yr.csv')\n",
    "cl = data[data['Name']=='AAPL'].close.values"
   ]
  },
  {
   "cell_type": "code",
   "execution_count": 3,
   "metadata": {
    "_uuid": "a2d7a28fff167eb8d3cd016bb403e22b2d60fc06"
   },
   "outputs": [
    {
     "data": {
      "text/plain": [
       "(1259,)"
      ]
     },
     "execution_count": 3,
     "metadata": {},
     "output_type": "execute_result"
    }
   ],
   "source": [
    "cl.shape"
   ]
  },
  {
   "cell_type": "code",
   "execution_count": 4,
   "metadata": {
    "_uuid": "8d296359552439f7f9885692d54ccc235fb31605"
   },
   "outputs": [
    {
     "data": {
      "text/plain": [
       "array([[0.0977103 ],\n",
       "       [0.103438  ],\n",
       "       [0.08951884],\n",
       "       ...,\n",
       "       [0.81558288],\n",
       "       [0.86855117],\n",
       "       [0.84028522]])"
      ]
     },
     "execution_count": 4,
     "metadata": {},
     "output_type": "execute_result"
    }
   ],
   "source": [
    "scl = MinMaxScaler()\n",
    "#Scale the data\n",
    "cl = cl.reshape(cl.shape[0],1)\n",
    "cl = scl.fit_transform(cl)\n",
    "cl"
   ]
  },
  {
   "cell_type": "markdown",
   "metadata": {
    "_uuid": "0d571e70a012a058dc86c5b13b8bb889bc1b11e3"
   },
   "source": [
    "## Step 2:  Cutting our time series into sequences\n",
    "\n",
    "Remember, our time series is a sequence of numbers that we can represent in general mathematically as \n",
    "\n",
    "$$s_{0},s_{1},s_{2},...,s_{P}$$\n",
    "\n",
    "where $s_{p}$ is the numerical value of the time series at time period $p$ and where $P$ is the total length of the series.  In order to apply our RNN we treat the time series prediction problem as a regression problem, and so need to use a sliding window to construct a set of associated input/output pairs to regress on.  This process is animated in the gif below.\n",
    "\n",
    "<img src=\"images/timeseries_windowing_training.gif\" width=600 height=600/>\n",
    "\n",
    "For example - using a window of size T = 5 (as illustrated in the gif above) we produce a set of input/output pairs like the one shown in the table below\n",
    "\n",
    "$$\\begin{array}{c|c}\n",
    "\\text{Input} & \\text{Output}\\\\\n",
    "\\hline \\color{CornflowerBlue} {\\langle s_{1},s_{2},s_{3},s_{4},s_{5}\\rangle} & \\color{Goldenrod}{ s_{6}} \\\\\n",
    "\\ \\color{CornflowerBlue} {\\langle s_{2},s_{3},s_{4},s_{5},s_{6} \\rangle } & \\color{Goldenrod} {s_{7} } \\\\\n",
    "\\color{CornflowerBlue}  {\\vdots} & \\color{Goldenrod} {\\vdots}\\\\\n",
    "\\color{CornflowerBlue} { \\langle s_{P-5},s_{P-4},s_{P-3},s_{P-2},s_{P-1} \\rangle } & \\color{Goldenrod} {s_{P}}\n",
    "\\end{array}$$\n",
    "\n",
    "Notice here that each input is a sequence (or vector) of length 4 (and in general has length equal to the window size T) while each corresponding output is a scalar value.  Notice also how given a time series of length P and window size T = 5 as shown above, we created P - 5  input/output pairs.  More generally, for a window size T we create P - T such pairs.\n",
    "\n",
    "Now let's window the input time series as described above!  "
   ]
  },
  {
   "cell_type": "code",
   "execution_count": 5,
   "metadata": {
    "_uuid": "481e5655de88c64e7a957fb941b94bd3a604b44e"
   },
   "outputs": [],
   "source": [
    "#Create a function to process the data into 7 day look back slices\n",
    "def processData(data,lb):\n",
    "    X,Y = [],[]\n",
    "    for i in range(len(data)-lb-1):\n",
    "        X.append(data[i:(i+lb),0])\n",
    "        Y.append(data[(i+lb),0])\n",
    "    return np.array(X),np.array(Y)\n",
    "X,y = processData(cl,7)\n"
   ]
  },
  {
   "cell_type": "markdown",
   "metadata": {
    "_uuid": "5f5e05c531fba8653e9f136d7dcdf0f590815b1f"
   },
   "source": [
    "## Step 3: Split training and testing sets\n",
    "\n",
    "In order to perform proper testing on our dataset we will lop off the last 1/3 of it for validation (or testing).  \n",
    "\n",
    "Note how here we are **not** splitting the dataset *randomly* as one typically would do when validating a regression model.  This is because our input/output pairs *are related temporally*.   We don't want to validate our model by training on a random subset of the series and then testing on another random subset, as this simulates the scenario that we receive new points *within the timeframe of our training set*.  \n",
    "\n",
    "We want to train on one solid chunk of the series (in our case, the first full 2/3 of it), and validate on a later chunk (the last 1/3) as this simulates how we would predict *future* values of a time series."
   ]
  },
  {
   "cell_type": "code",
   "execution_count": 6,
   "metadata": {
    "_uuid": "3721f54cf47a380db25e3eafad5a61675ac7fc0a"
   },
   "outputs": [
    {
     "name": "stdout",
     "output_type": "stream",
     "text": [
      "1000\n",
      "251\n",
      "1000\n",
      "251\n"
     ]
    }
   ],
   "source": [
    "X_train,X_test = X[:int(X.shape[0]*0.80)],X[int(X.shape[0]*0.80):]\n",
    "y_train,y_test = y[:int(y.shape[0]*0.80)],y[int(y.shape[0]*0.80):]\n",
    "print(X_train.shape[0])\n",
    "print(X_test.shape[0])\n",
    "print(y_train.shape[0])\n",
    "print(y_test.shape[0])"
   ]
  },
  {
   "cell_type": "markdown",
   "metadata": {
    "_uuid": "c9efc8efbf55921d95f3a893aaa177ce190313e6"
   },
   "source": [
    "## Step 4:  Build and run an RNN regression model\n",
    "\n",
    "Having created input/output pairs out of our time series and cut this into training/testing sets, we can now begin setting up our RNN.  We use Keras to quickly build a two hidden layer RNN of the following specifications\n",
    "\n",
    "- layer 1 uses an LSTM module with 5 hidden units (note here the input_shape = (window_size,1))\n",
    "- layer 2 uses a fully connected module with one unit\n",
    "- the 'mean_squared_error' loss should be used"
   ]
  },
  {
   "cell_type": "code",
   "execution_count": 7,
   "metadata": {
    "_uuid": "260363e323138003dea09bb77c00ac80821639e5"
   },
   "outputs": [
    {
     "name": "stdout",
     "output_type": "stream",
     "text": [
      "Train on 1000 samples, validate on 251 samples\n",
      "Epoch 1/300\n",
      "1000/1000 [==============================] - 2s 2ms/step - loss: 0.0038 - val_loss: 0.0534\n",
      "Epoch 2/300\n",
      "1000/1000 [==============================] - 0s 186us/step - loss: 0.0054 - val_loss: 0.0064\n",
      "Epoch 3/300\n",
      "1000/1000 [==============================] - 0s 158us/step - loss: 0.0030 - val_loss: 0.0027\n",
      "Epoch 4/300\n",
      "1000/1000 [==============================] - 0s 160us/step - loss: 0.0013 - val_loss: 0.0019\n",
      "Epoch 5/300\n",
      "1000/1000 [==============================] - 0s 155us/step - loss: 6.0497e-04 - val_loss: 9.7606e-04\n",
      "Epoch 6/300\n",
      "1000/1000 [==============================] - 0s 156us/step - loss: 4.7417e-04 - val_loss: 7.8979e-04\n",
      "Epoch 7/300\n",
      "1000/1000 [==============================] - 0s 179us/step - loss: 5.7942e-04 - val_loss: 0.0024\n",
      "Epoch 8/300\n",
      "1000/1000 [==============================] - 0s 154us/step - loss: 5.9602e-04 - val_loss: 0.0025\n",
      "Epoch 9/300\n",
      "1000/1000 [==============================] - 0s 158us/step - loss: 5.4945e-04 - val_loss: 0.0022\n",
      "Epoch 10/300\n",
      "1000/1000 [==============================] - 0s 160us/step - loss: 5.2751e-04 - val_loss: 0.0021\n",
      "Epoch 11/300\n",
      "1000/1000 [==============================] - 0s 162us/step - loss: 5.0939e-04 - val_loss: 0.0020\n",
      "Epoch 12/300\n",
      "1000/1000 [==============================] - 0s 161us/step - loss: 4.9290e-04 - val_loss: 0.0018\n",
      "Epoch 13/300\n",
      "1000/1000 [==============================] - 0s 158us/step - loss: 4.8000e-04 - val_loss: 0.0017\n",
      "Epoch 14/300\n",
      "1000/1000 [==============================] - 0s 161us/step - loss: 4.6849e-04 - val_loss: 0.0016\n",
      "Epoch 15/300\n",
      "1000/1000 [==============================] - 0s 158us/step - loss: 4.5896e-04 - val_loss: 0.0016\n",
      "Epoch 16/300\n",
      "1000/1000 [==============================] - 0s 173us/step - loss: 4.5043e-04 - val_loss: 0.0015\n",
      "Epoch 17/300\n",
      "1000/1000 [==============================] - 0s 190us/step - loss: 4.4296e-04 - val_loss: 0.0014\n",
      "Epoch 18/300\n",
      "1000/1000 [==============================] - 0s 166us/step - loss: 4.3638e-04 - val_loss: 0.0014\n",
      "Epoch 19/300\n",
      "1000/1000 [==============================] - 0s 161us/step - loss: 4.3034e-04 - val_loss: 0.0013\n",
      "Epoch 20/300\n",
      "1000/1000 [==============================] - 0s 165us/step - loss: 4.2482e-04 - val_loss: 0.0013\n",
      "Epoch 21/300\n",
      "1000/1000 [==============================] - 0s 197us/step - loss: 4.1972e-04 - val_loss: 0.0013\n",
      "Epoch 22/300\n",
      "1000/1000 [==============================] - 0s 167us/step - loss: 4.1488e-04 - val_loss: 0.0012\n",
      "Epoch 23/300\n",
      "1000/1000 [==============================] - 0s 186us/step - loss: 4.1052e-04 - val_loss: 0.0012\n",
      "Epoch 24/300\n",
      "1000/1000 [==============================] - 0s 169us/step - loss: 4.0619e-04 - val_loss: 0.0012\n",
      "Epoch 25/300\n",
      "1000/1000 [==============================] - 0s 165us/step - loss: 4.0228e-04 - val_loss: 0.0011\n",
      "Epoch 26/300\n",
      "1000/1000 [==============================] - 0s 170us/step - loss: 3.9829e-04 - val_loss: 0.0011\n",
      "Epoch 27/300\n",
      "1000/1000 [==============================] - 0s 170us/step - loss: 3.9474e-04 - val_loss: 0.0011\n",
      "Epoch 28/300\n",
      "1000/1000 [==============================] - 0s 160us/step - loss: 3.9102e-04 - val_loss: 0.0011\n",
      "Epoch 29/300\n",
      "1000/1000 [==============================] - 0s 180us/step - loss: 3.8771e-04 - val_loss: 0.0011\n",
      "Epoch 30/300\n",
      "1000/1000 [==============================] - 0s 165us/step - loss: 3.8417e-04 - val_loss: 0.0010\n",
      "Epoch 31/300\n",
      "1000/1000 [==============================] - 0s 169us/step - loss: 3.8108e-04 - val_loss: 0.0010\n",
      "Epoch 32/300\n",
      "1000/1000 [==============================] - 0s 207us/step - loss: 3.7764e-04 - val_loss: 9.9099e-04\n",
      "Epoch 33/300\n",
      "1000/1000 [==============================] - 0s 168us/step - loss: 3.7478e-04 - val_loss: 9.7579e-04\n",
      "Epoch 34/300\n",
      "1000/1000 [==============================] - 0s 153us/step - loss: 3.7133e-04 - val_loss: 9.5401e-04\n",
      "Epoch 35/300\n",
      "1000/1000 [==============================] - 0s 181us/step - loss: 3.6875e-04 - val_loss: 9.4192e-04\n",
      "Epoch 36/300\n",
      "1000/1000 [==============================] - 0s 165us/step - loss: 3.6519e-04 - val_loss: 9.1992e-04\n",
      "Epoch 37/300\n",
      "1000/1000 [==============================] - 0s 165us/step - loss: 3.6297e-04 - val_loss: 9.1049e-04\n",
      "Epoch 38/300\n",
      "1000/1000 [==============================] - 0s 170us/step - loss: 3.5908e-04 - val_loss: 8.8667e-04\n",
      "Epoch 39/300\n",
      "1000/1000 [==============================] - 0s 157us/step - loss: 3.5751e-04 - val_loss: 8.8198e-04\n",
      "Epoch 40/300\n",
      "1000/1000 [==============================] - 0s 200us/step - loss: 3.5286e-04 - val_loss: 8.5435e-04\n",
      "Epoch 41/300\n",
      "1000/1000 [==============================] - 0s 186us/step - loss: 3.5255e-04 - val_loss: 8.5714e-04\n",
      "Epoch 42/300\n",
      "1000/1000 [==============================] - 0s 187us/step - loss: 3.4630e-04 - val_loss: 8.2149e-04\n",
      "Epoch 43/300\n",
      "1000/1000 [==============================] - 0s 187us/step - loss: 3.4849e-04 - val_loss: 8.3629e-04\n",
      "Epoch 44/300\n",
      "1000/1000 [==============================] - 0s 180us/step - loss: 3.3906e-04 - val_loss: 7.8700e-04\n",
      "Epoch 45/300\n",
      "1000/1000 [==============================] - 0s 186us/step - loss: 3.4665e-04 - val_loss: 8.2104e-04\n",
      "Epoch 46/300\n",
      "1000/1000 [==============================] - 0s 177us/step - loss: 3.3087e-04 - val_loss: 7.4729e-04\n",
      "Epoch 47/300\n",
      "1000/1000 [==============================] - 0s 165us/step - loss: 3.5089e-04 - val_loss: 8.1086e-04\n",
      "Epoch 48/300\n",
      "1000/1000 [==============================] - 0s 161us/step - loss: 3.2379e-04 - val_loss: 6.9404e-04\n",
      "Epoch 49/300\n",
      "1000/1000 [==============================] - 0s 166us/step - loss: 3.7465e-04 - val_loss: 7.9833e-04\n",
      "Epoch 50/300\n",
      "1000/1000 [==============================] - 0s 167us/step - loss: 3.3213e-04 - val_loss: 5.9924e-04\n",
      "Epoch 51/300\n",
      "1000/1000 [==============================] - 0s 207us/step - loss: 4.6141e-04 - val_loss: 7.7431e-04\n",
      "Epoch 52/300\n",
      "1000/1000 [==============================] - 0s 148us/step - loss: 3.9557e-04 - val_loss: 4.4509e-04\n",
      "Epoch 53/300\n",
      "1000/1000 [==============================] - 0s 175us/step - loss: 6.7049e-04 - val_loss: 8.6384e-04\n",
      "Epoch 54/300\n",
      "1000/1000 [==============================] - 0s 171us/step - loss: 4.5888e-04 - val_loss: 5.2991e-04\n",
      "Epoch 55/300\n",
      "1000/1000 [==============================] - 0s 163us/step - loss: 8.1430e-04 - val_loss: 0.0015\n",
      "Epoch 56/300\n",
      "1000/1000 [==============================] - 0s 158us/step - loss: 3.5275e-04 - val_loss: 4.2116e-04\n",
      "Epoch 57/300\n",
      "1000/1000 [==============================] - 0s 161us/step - loss: 5.0274e-04 - val_loss: 0.0013\n",
      "Epoch 58/300\n",
      "1000/1000 [==============================] - 0s 152us/step - loss: 3.2743e-04 - val_loss: 4.8663e-04\n",
      "Epoch 59/300\n",
      "1000/1000 [==============================] - 0s 164us/step - loss: 3.6140e-04 - val_loss: 0.0010\n",
      "Epoch 60/300\n",
      "1000/1000 [==============================] - 0s 194us/step - loss: 3.1506e-04 - val_loss: 5.5474e-04\n",
      "Epoch 61/300\n",
      "1000/1000 [==============================] - 0s 170us/step - loss: 3.2978e-04 - val_loss: 9.2504e-04\n",
      "Epoch 62/300\n",
      "1000/1000 [==============================] - 0s 193us/step - loss: 3.0317e-04 - val_loss: 5.9923e-04\n",
      "Epoch 63/300\n",
      "1000/1000 [==============================] - 0s 171us/step - loss: 3.1633e-04 - val_loss: 8.5859e-04\n",
      "Epoch 64/300\n",
      "1000/1000 [==============================] - 0s 154us/step - loss: 2.9450e-04 - val_loss: 6.1871e-04\n",
      "Epoch 65/300\n",
      "1000/1000 [==============================] - 0s 161us/step - loss: 3.0820e-04 - val_loss: 8.0963e-04\n",
      "Epoch 66/300\n",
      "1000/1000 [==============================] - 0s 164us/step - loss: 2.8792e-04 - val_loss: 6.2003e-04\n",
      "Epoch 67/300\n",
      "1000/1000 [==============================] - 0s 161us/step - loss: 3.0247e-04 - val_loss: 7.6927e-04\n",
      "Epoch 68/300\n",
      "1000/1000 [==============================] - 0s 155us/step - loss: 2.8239e-04 - val_loss: 6.1125e-04\n",
      "Epoch 69/300\n",
      "1000/1000 [==============================] - 0s 167us/step - loss: 2.9831e-04 - val_loss: 7.3517e-04\n",
      "Epoch 70/300\n",
      "1000/1000 [==============================] - 0s 178us/step - loss: 2.7757e-04 - val_loss: 5.9831e-04\n",
      "Epoch 71/300\n",
      "1000/1000 [==============================] - 0s 196us/step - loss: 2.9572e-04 - val_loss: 7.0574e-04\n",
      "Epoch 72/300\n",
      "1000/1000 [==============================] - 0s 166us/step - loss: 2.7353e-04 - val_loss: 5.8487e-04\n",
      "Epoch 73/300\n",
      "1000/1000 [==============================] - 0s 199us/step - loss: 2.9519e-04 - val_loss: 6.8132e-04\n"
     ]
    },
    {
     "name": "stdout",
     "output_type": "stream",
     "text": [
      "Epoch 74/300\n",
      "1000/1000 [==============================] - 0s 188us/step - loss: 2.7072e-04 - val_loss: 5.7274e-04\n",
      "Epoch 75/300\n",
      "1000/1000 [==============================] - 0s 194us/step - loss: 2.9754e-04 - val_loss: 6.5956e-04\n",
      "Epoch 76/300\n",
      "1000/1000 [==============================] - 0s 170us/step - loss: 2.6974e-04 - val_loss: 5.6124e-04\n",
      "Epoch 77/300\n",
      "1000/1000 [==============================] - 0s 195us/step - loss: 3.0389e-04 - val_loss: 6.3892e-04\n",
      "Epoch 78/300\n",
      "1000/1000 [==============================] - 0s 196us/step - loss: 2.7102e-04 - val_loss: 5.4630e-04\n",
      "Epoch 79/300\n",
      "1000/1000 [==============================] - 0s 145us/step - loss: 3.1533e-04 - val_loss: 6.1821e-04\n",
      "Epoch 80/300\n",
      "1000/1000 [==============================] - 0s 194us/step - loss: 2.7417e-04 - val_loss: 5.2009e-04\n",
      "Epoch 81/300\n",
      "1000/1000 [==============================] - 0s 170us/step - loss: 3.3205e-04 - val_loss: 5.9792e-04\n",
      "Epoch 82/300\n",
      "1000/1000 [==============================] - 0s 199us/step - loss: 2.7741e-04 - val_loss: 4.7777e-04\n",
      "Epoch 83/300\n",
      "1000/1000 [==============================] - 0s 167us/step - loss: 3.5216e-04 - val_loss: 5.7928e-04\n",
      "Epoch 84/300\n",
      "1000/1000 [==============================] - 0s 150us/step - loss: 2.7821e-04 - val_loss: 4.2496e-04\n",
      "Epoch 85/300\n",
      "1000/1000 [==============================] - 0s 164us/step - loss: 3.7066e-04 - val_loss: 5.6489e-04\n",
      "Epoch 86/300\n",
      "1000/1000 [==============================] - 0s 166us/step - loss: 2.7444e-04 - val_loss: 3.7987e-04\n",
      "Epoch 87/300\n",
      "1000/1000 [==============================] - 0s 176us/step - loss: 3.7959e-04 - val_loss: 5.5673e-04\n",
      "Epoch 88/300\n",
      "1000/1000 [==============================] - 0s 154us/step - loss: 2.6774e-04 - val_loss: 3.5370e-04\n",
      "Epoch 89/300\n",
      "1000/1000 [==============================] - 0s 178us/step - loss: 3.7259e-04 - val_loss: 5.5447e-04\n",
      "Epoch 90/300\n",
      "1000/1000 [==============================] - 0s 181us/step - loss: 2.6173e-04 - val_loss: 3.4412e-04\n",
      "Epoch 91/300\n",
      "1000/1000 [==============================] - 0s 165us/step - loss: 3.5339e-04 - val_loss: 5.5577e-04\n",
      "Epoch 92/300\n",
      "1000/1000 [==============================] - 0s 188us/step - loss: 2.5939e-04 - val_loss: 3.4297e-04\n",
      "Epoch 93/300\n",
      "1000/1000 [==============================] - 0s 174us/step - loss: 3.3359e-04 - val_loss: 5.5800e-04\n",
      "Epoch 94/300\n",
      "1000/1000 [==============================] - 0s 188us/step - loss: 2.5908e-04 - val_loss: 3.4453e-04\n",
      "Epoch 95/300\n",
      "1000/1000 [==============================] - 0s 203us/step - loss: 3.1964e-04 - val_loss: 5.5823e-04\n",
      "Epoch 96/300\n",
      "1000/1000 [==============================] - 0s 160us/step - loss: 2.5758e-04 - val_loss: 3.4521e-04\n",
      "Epoch 97/300\n",
      "1000/1000 [==============================] - 0s 195us/step - loss: 3.1046e-04 - val_loss: 5.5234e-04\n",
      "Epoch 98/300\n",
      "1000/1000 [==============================] - 0s 154us/step - loss: 2.5329e-04 - val_loss: 3.4434e-04\n",
      "Epoch 99/300\n",
      "1000/1000 [==============================] - 0s 163us/step - loss: 3.0269e-04 - val_loss: 5.4003e-04\n",
      "Epoch 100/300\n",
      "1000/1000 [==============================] - 0s 164us/step - loss: 2.4695e-04 - val_loss: 3.4393e-04\n",
      "Epoch 101/300\n",
      "1000/1000 [==============================] - 0s 156us/step - loss: 2.9440e-04 - val_loss: 5.2492e-04\n",
      "Epoch 102/300\n",
      "1000/1000 [==============================] - 0s 158us/step - loss: 2.4063e-04 - val_loss: 3.4542e-04\n",
      "Epoch 103/300\n",
      "1000/1000 [==============================] - 0s 162us/step - loss: 2.8575e-04 - val_loss: 5.0985e-04\n",
      "Epoch 104/300\n",
      "1000/1000 [==============================] - 0s 163us/step - loss: 2.3545e-04 - val_loss: 3.4848e-04\n",
      "Epoch 105/300\n",
      "1000/1000 [==============================] - 0s 162us/step - loss: 2.7791e-04 - val_loss: 4.9622e-04\n",
      "Epoch 106/300\n",
      "1000/1000 [==============================] - 0s 160us/step - loss: 2.3143e-04 - val_loss: 3.5179e-04\n",
      "Epoch 107/300\n",
      "1000/1000 [==============================] - 0s 160us/step - loss: 2.7179e-04 - val_loss: 4.8481e-04\n",
      "Epoch 108/300\n",
      "1000/1000 [==============================] - 0s 155us/step - loss: 2.2800e-04 - val_loss: 3.5433e-04\n",
      "Epoch 109/300\n",
      "1000/1000 [==============================] - 0s 153us/step - loss: 2.6729e-04 - val_loss: 4.7414e-04\n",
      "Epoch 110/300\n",
      "1000/1000 [==============================] - 0s 157us/step - loss: 2.2471e-04 - val_loss: 3.5454e-04\n",
      "Epoch 111/300\n",
      "1000/1000 [==============================] - 0s 156us/step - loss: 2.6403e-04 - val_loss: 4.6301e-04\n",
      "Epoch 112/300\n",
      "1000/1000 [==============================] - 0s 159us/step - loss: 2.2106e-04 - val_loss: 3.5306e-04\n",
      "Epoch 113/300\n",
      "1000/1000 [==============================] - 0s 158us/step - loss: 2.6113e-04 - val_loss: 4.5186e-04\n",
      "Epoch 114/300\n",
      "1000/1000 [==============================] - 0s 153us/step - loss: 2.1723e-04 - val_loss: 3.5099e-04\n",
      "Epoch 115/300\n",
      "1000/1000 [==============================] - 0s 180us/step - loss: 2.5793e-04 - val_loss: 4.4208e-04\n",
      "Epoch 116/300\n",
      "1000/1000 [==============================] - 0s 189us/step - loss: 2.1340e-04 - val_loss: 3.4972e-04\n",
      "Epoch 117/300\n",
      "1000/1000 [==============================] - 0s 186us/step - loss: 2.5426e-04 - val_loss: 4.3278e-04\n",
      "Epoch 118/300\n",
      "1000/1000 [==============================] - 0s 200us/step - loss: 2.1001e-04 - val_loss: 3.4818e-04\n",
      "Epoch 119/300\n",
      "1000/1000 [==============================] - 0s 170us/step - loss: 2.5035e-04 - val_loss: 4.2502e-04\n",
      "Epoch 120/300\n",
      "1000/1000 [==============================] - 0s 168us/step - loss: 2.0680e-04 - val_loss: 3.4666e-04\n",
      "Epoch 121/300\n",
      "1000/1000 [==============================] - 0s 188us/step - loss: 2.4595e-04 - val_loss: 4.1755e-04\n",
      "Epoch 122/300\n",
      "1000/1000 [==============================] - 0s 172us/step - loss: 2.0365e-04 - val_loss: 3.4526e-04\n",
      "Epoch 123/300\n",
      "1000/1000 [==============================] - 0s 163us/step - loss: 2.4125e-04 - val_loss: 4.0981e-04\n",
      "Epoch 124/300\n",
      "1000/1000 [==============================] - 0s 156us/step - loss: 2.0055e-04 - val_loss: 3.4391e-04\n",
      "Epoch 125/300\n",
      "1000/1000 [==============================] - 0s 155us/step - loss: 2.3637e-04 - val_loss: 4.0171e-04\n",
      "Epoch 126/300\n",
      "1000/1000 [==============================] - 0s 162us/step - loss: 1.9757e-04 - val_loss: 3.4306e-04\n",
      "Epoch 127/300\n",
      "1000/1000 [==============================] - 0s 158us/step - loss: 2.3140e-04 - val_loss: 3.9466e-04\n",
      "Epoch 128/300\n",
      "1000/1000 [==============================] - 0s 153us/step - loss: 1.9468e-04 - val_loss: 3.4315e-04\n",
      "Epoch 129/300\n",
      "1000/1000 [==============================] - 0s 163us/step - loss: 2.2635e-04 - val_loss: 3.8757e-04\n",
      "Epoch 130/300\n",
      "1000/1000 [==============================] - 0s 150us/step - loss: 1.9196e-04 - val_loss: 3.4336e-04\n",
      "Epoch 131/300\n",
      "1000/1000 [==============================] - 0s 152us/step - loss: 2.2147e-04 - val_loss: 3.8049e-04\n",
      "Epoch 132/300\n",
      "1000/1000 [==============================] - 0s 153us/step - loss: 1.8929e-04 - val_loss: 3.4380e-04\n",
      "Epoch 133/300\n",
      "1000/1000 [==============================] - 0s 157us/step - loss: 2.1679e-04 - val_loss: 3.7317e-04\n",
      "Epoch 134/300\n",
      "1000/1000 [==============================] - 0s 169us/step - loss: 1.8667e-04 - val_loss: 3.4387e-04\n",
      "Epoch 135/300\n",
      "1000/1000 [==============================] - 0s 160us/step - loss: 2.1221e-04 - val_loss: 3.6565e-04\n",
      "Epoch 136/300\n",
      "1000/1000 [==============================] - 0s 167us/step - loss: 1.8414e-04 - val_loss: 3.4401e-04\n",
      "Epoch 137/300\n",
      "1000/1000 [==============================] - 0s 169us/step - loss: 2.0766e-04 - val_loss: 3.5856e-04\n",
      "Epoch 138/300\n",
      "1000/1000 [==============================] - 0s 163us/step - loss: 1.8173e-04 - val_loss: 3.4403e-04\n",
      "Epoch 139/300\n",
      "1000/1000 [==============================] - 0s 156us/step - loss: 2.0324e-04 - val_loss: 3.5177e-04\n",
      "Epoch 140/300\n",
      "1000/1000 [==============================] - 0s 168us/step - loss: 1.7940e-04 - val_loss: 3.4383e-04\n",
      "Epoch 141/300\n",
      "1000/1000 [==============================] - 0s 162us/step - loss: 1.9909e-04 - val_loss: 3.4506e-04\n",
      "Epoch 142/300\n",
      "1000/1000 [==============================] - 0s 159us/step - loss: 1.7722e-04 - val_loss: 3.4414e-04\n",
      "Epoch 143/300\n",
      "1000/1000 [==============================] - 0s 157us/step - loss: 1.9507e-04 - val_loss: 3.3947e-04\n",
      "Epoch 144/300\n",
      "1000/1000 [==============================] - 0s 164us/step - loss: 1.7520e-04 - val_loss: 3.4498e-04\n",
      "Epoch 145/300\n"
     ]
    },
    {
     "name": "stdout",
     "output_type": "stream",
     "text": [
      "1000/1000 [==============================] - 0s 169us/step - loss: 1.9118e-04 - val_loss: 3.3471e-04\n",
      "Epoch 146/300\n",
      "1000/1000 [==============================] - 0s 155us/step - loss: 1.7334e-04 - val_loss: 3.4645e-04\n",
      "Epoch 147/300\n",
      "1000/1000 [==============================] - 0s 153us/step - loss: 1.8751e-04 - val_loss: 3.3075e-04\n",
      "Epoch 148/300\n",
      "1000/1000 [==============================] - 0s 159us/step - loss: 1.7157e-04 - val_loss: 3.4818e-04\n",
      "Epoch 149/300\n",
      "1000/1000 [==============================] - 0s 158us/step - loss: 1.8397e-04 - val_loss: 3.2769e-04\n",
      "Epoch 150/300\n",
      "1000/1000 [==============================] - 0s 150us/step - loss: 1.6992e-04 - val_loss: 3.5049e-04\n",
      "Epoch 151/300\n",
      "1000/1000 [==============================] - 0s 154us/step - loss: 1.8056e-04 - val_loss: 3.2582e-04\n",
      "Epoch 152/300\n",
      "1000/1000 [==============================] - 0s 165us/step - loss: 1.6834e-04 - val_loss: 3.5333e-04\n",
      "Epoch 153/300\n",
      "1000/1000 [==============================] - 0s 180us/step - loss: 1.7727e-04 - val_loss: 3.2534e-04\n",
      "Epoch 154/300\n",
      "1000/1000 [==============================] - 0s 163us/step - loss: 1.6685e-04 - val_loss: 3.5637e-04\n",
      "Epoch 155/300\n",
      "1000/1000 [==============================] - 0s 170us/step - loss: 1.7407e-04 - val_loss: 3.2639e-04\n",
      "Epoch 156/300\n",
      "1000/1000 [==============================] - 0s 150us/step - loss: 1.6541e-04 - val_loss: 3.5928e-04\n",
      "Epoch 157/300\n",
      "1000/1000 [==============================] - 0s 159us/step - loss: 1.7108e-04 - val_loss: 3.2925e-04\n",
      "Epoch 158/300\n",
      "1000/1000 [==============================] - 0s 149us/step - loss: 1.6415e-04 - val_loss: 3.6224e-04\n",
      "Epoch 159/300\n",
      "1000/1000 [==============================] - 0s 159us/step - loss: 1.6833e-04 - val_loss: 3.3444e-04\n",
      "Epoch 160/300\n",
      "1000/1000 [==============================] - 0s 151us/step - loss: 1.6315e-04 - val_loss: 3.6513e-04\n",
      "Epoch 161/300\n",
      "1000/1000 [==============================] - 0s 152us/step - loss: 1.6597e-04 - val_loss: 3.4221e-04\n",
      "Epoch 162/300\n",
      "1000/1000 [==============================] - 0s 154us/step - loss: 1.6246e-04 - val_loss: 3.6841e-04\n",
      "Epoch 163/300\n",
      "1000/1000 [==============================] - 0s 153us/step - loss: 1.6414e-04 - val_loss: 3.5269e-04\n",
      "Epoch 164/300\n",
      "1000/1000 [==============================] - 0s 155us/step - loss: 1.6209e-04 - val_loss: 3.7287e-04\n",
      "Epoch 165/300\n",
      "1000/1000 [==============================] - 0s 153us/step - loss: 1.6288e-04 - val_loss: 3.6530e-04\n",
      "Epoch 166/300\n",
      "1000/1000 [==============================] - 0s 155us/step - loss: 1.6190e-04 - val_loss: 3.7941e-04\n",
      "Epoch 167/300\n",
      "1000/1000 [==============================] - 0s 144us/step - loss: 1.6214e-04 - val_loss: 3.7931e-04\n",
      "Epoch 168/300\n",
      "1000/1000 [==============================] - 0s 165us/step - loss: 1.6176e-04 - val_loss: 3.8926e-04\n",
      "Epoch 169/300\n",
      "1000/1000 [==============================] - 0s 151us/step - loss: 1.6174e-04 - val_loss: 3.9422e-04\n",
      "Epoch 170/300\n",
      "1000/1000 [==============================] - 0s 159us/step - loss: 1.6161e-04 - val_loss: 4.0235e-04\n",
      "Epoch 171/300\n",
      "1000/1000 [==============================] - 0s 190us/step - loss: 1.6154e-04 - val_loss: 4.1011e-04\n",
      "Epoch 172/300\n",
      "1000/1000 [==============================] - 0s 155us/step - loss: 1.6149e-04 - val_loss: 4.1864e-04\n",
      "Epoch 173/300\n",
      "1000/1000 [==============================] - 0s 161us/step - loss: 1.6146e-04 - val_loss: 4.2789e-04\n",
      "Epoch 174/300\n",
      "1000/1000 [==============================] - 0s 157us/step - loss: 1.6144e-04 - val_loss: 4.3740e-04\n",
      "Epoch 175/300\n",
      "1000/1000 [==============================] - 0s 167us/step - loss: 1.6145e-04 - val_loss: 4.4771e-04\n",
      "Epoch 176/300\n",
      "1000/1000 [==============================] - 0s 173us/step - loss: 1.6147e-04 - val_loss: 4.5853e-04\n",
      "Epoch 177/300\n",
      "1000/1000 [==============================] - 0s 197us/step - loss: 1.6151e-04 - val_loss: 4.6990e-04\n",
      "Epoch 178/300\n",
      "1000/1000 [==============================] - 0s 161us/step - loss: 1.6157e-04 - val_loss: 4.8200e-04\n",
      "Epoch 179/300\n",
      "1000/1000 [==============================] - 0s 192us/step - loss: 1.6164e-04 - val_loss: 4.9416e-04\n",
      "Epoch 180/300\n",
      "1000/1000 [==============================] - 0s 154us/step - loss: 1.6173e-04 - val_loss: 5.0718e-04\n",
      "Epoch 181/300\n",
      "1000/1000 [==============================] - 0s 158us/step - loss: 1.6185e-04 - val_loss: 5.2090e-04\n",
      "Epoch 182/300\n",
      "1000/1000 [==============================] - 0s 169us/step - loss: 1.6198e-04 - val_loss: 5.3561e-04\n",
      "Epoch 183/300\n",
      "1000/1000 [==============================] - 0s 196us/step - loss: 1.6214e-04 - val_loss: 5.5054e-04\n",
      "Epoch 184/300\n",
      "1000/1000 [==============================] - 0s 162us/step - loss: 1.6230e-04 - val_loss: 5.6550e-04\n",
      "Epoch 185/300\n",
      "1000/1000 [==============================] - 0s 153us/step - loss: 1.6249e-04 - val_loss: 5.8148e-04\n",
      "Epoch 186/300\n",
      "1000/1000 [==============================] - 0s 151us/step - loss: 1.6270e-04 - val_loss: 5.9836e-04\n",
      "Epoch 187/300\n",
      "1000/1000 [==============================] - 0s 158us/step - loss: 1.6295e-04 - val_loss: 6.1576e-04\n",
      "Epoch 188/300\n",
      "1000/1000 [==============================] - 0s 155us/step - loss: 1.6319e-04 - val_loss: 6.3328e-04\n",
      "Epoch 189/300\n",
      "1000/1000 [==============================] - 0s 156us/step - loss: 1.6346e-04 - val_loss: 6.5115e-04\n",
      "Epoch 190/300\n",
      "1000/1000 [==============================] - 0s 155us/step - loss: 1.6377e-04 - val_loss: 6.7047e-04\n",
      "Epoch 191/300\n",
      "1000/1000 [==============================] - 0s 157us/step - loss: 1.6412e-04 - val_loss: 6.9056e-04\n",
      "Epoch 192/300\n",
      "1000/1000 [==============================] - 0s 163us/step - loss: 1.6449e-04 - val_loss: 7.1096e-04\n",
      "Epoch 193/300\n",
      "1000/1000 [==============================] - 0s 164us/step - loss: 1.6489e-04 - val_loss: 7.3159e-04\n",
      "Epoch 194/300\n",
      "1000/1000 [==============================] - 0s 159us/step - loss: 1.6532e-04 - val_loss: 7.5266e-04\n",
      "Epoch 195/300\n",
      "1000/1000 [==============================] - 0s 157us/step - loss: 1.6581e-04 - val_loss: 7.7402e-04\n",
      "Epoch 196/300\n",
      "1000/1000 [==============================] - 0s 163us/step - loss: 1.6632e-04 - val_loss: 7.9520e-04\n",
      "Epoch 197/300\n",
      "1000/1000 [==============================] - 0s 161us/step - loss: 1.6685e-04 - val_loss: 8.1516e-04\n",
      "Epoch 198/300\n",
      "1000/1000 [==============================] - 0s 172us/step - loss: 1.6744e-04 - val_loss: 8.3652e-04\n",
      "Epoch 199/300\n",
      "1000/1000 [==============================] - 0s 182us/step - loss: 1.6811e-04 - val_loss: 8.5833e-04\n",
      "Epoch 200/300\n",
      "1000/1000 [==============================] - 0s 167us/step - loss: 1.6885e-04 - val_loss: 8.7728e-04\n",
      "Epoch 201/300\n",
      "1000/1000 [==============================] - 0s 156us/step - loss: 1.6956e-04 - val_loss: 8.9537e-04\n",
      "Epoch 202/300\n",
      "1000/1000 [==============================] - 0s 154us/step - loss: 1.7037e-04 - val_loss: 9.1323e-04\n",
      "Epoch 203/300\n",
      "1000/1000 [==============================] - 0s 165us/step - loss: 1.7136e-04 - val_loss: 9.3158e-04\n",
      "Epoch 204/300\n",
      "1000/1000 [==============================] - 0s 175us/step - loss: 1.7240e-04 - val_loss: 9.4871e-04\n",
      "Epoch 205/300\n",
      "1000/1000 [==============================] - 0s 189us/step - loss: 1.7348e-04 - val_loss: 9.6188e-04\n",
      "Epoch 206/300\n",
      "1000/1000 [==============================] - ETA: 0s - loss: 1.8066e-0 - 0s 157us/step - loss: 1.7469e-04 - val_loss: 9.7078e-04\n",
      "Epoch 207/300\n",
      "1000/1000 [==============================] - 0s 153us/step - loss: 1.7603e-04 - val_loss: 9.7895e-04\n",
      "Epoch 208/300\n",
      "1000/1000 [==============================] - 0s 161us/step - loss: 1.7761e-04 - val_loss: 9.8364e-04\n",
      "Epoch 209/300\n",
      "1000/1000 [==============================] - 0s 167us/step - loss: 1.7935e-04 - val_loss: 9.8338e-04\n",
      "Epoch 210/300\n",
      "1000/1000 [==============================] - 0s 188us/step - loss: 1.8119e-04 - val_loss: 9.7510e-04\n",
      "Epoch 211/300\n",
      "1000/1000 [==============================] - 0s 157us/step - loss: 1.8322e-04 - val_loss: 9.5865e-04\n",
      "Epoch 212/300\n",
      "1000/1000 [==============================] - 0s 159us/step - loss: 1.8571e-04 - val_loss: 9.3168e-04\n",
      "Epoch 213/300\n",
      "1000/1000 [==============================] - 0s 162us/step - loss: 1.8837e-04 - val_loss: 8.9626e-04\n",
      "Epoch 214/300\n",
      "1000/1000 [==============================] - 0s 158us/step - loss: 1.9097e-04 - val_loss: 8.5987e-04\n",
      "Epoch 215/300\n",
      "1000/1000 [==============================] - 0s 172us/step - loss: 1.9351e-04 - val_loss: 8.1969e-04\n",
      "Epoch 216/300\n"
     ]
    },
    {
     "name": "stdout",
     "output_type": "stream",
     "text": [
      "1000/1000 [==============================] - 0s 170us/step - loss: 1.9659e-04 - val_loss: 7.3434e-04\n",
      "Epoch 217/300\n",
      "1000/1000 [==============================] - 0s 189us/step - loss: 1.9917e-04 - val_loss: 6.2595e-04\n",
      "Epoch 218/300\n",
      "1000/1000 [==============================] - 0s 157us/step - loss: 2.0877e-04 - val_loss: 5.0592e-04\n",
      "Epoch 219/300\n",
      "1000/1000 [==============================] - 0s 147us/step - loss: 2.1283e-04 - val_loss: 4.1023e-04\n",
      "Epoch 220/300\n",
      "1000/1000 [==============================] - 0s 191us/step - loss: 2.1952e-04 - val_loss: 3.3019e-04\n",
      "Epoch 221/300\n",
      "1000/1000 [==============================] - 0s 161us/step - loss: 2.3026e-04 - val_loss: 2.8159e-04\n",
      "Epoch 222/300\n",
      "1000/1000 [==============================] - 0s 150us/step - loss: 2.4016e-04 - val_loss: 2.5656e-04\n",
      "Epoch 223/300\n",
      "1000/1000 [==============================] - 0s 153us/step - loss: 2.4482e-04 - val_loss: 2.4915e-04\n",
      "Epoch 224/300\n",
      "1000/1000 [==============================] - 0s 165us/step - loss: 2.3250e-04 - val_loss: 2.4490e-04\n",
      "Epoch 225/300\n",
      "1000/1000 [==============================] - 0s 152us/step - loss: 2.0981e-04 - val_loss: 2.5221e-04\n",
      "Epoch 226/300\n",
      "1000/1000 [==============================] - 0s 158us/step - loss: 1.7416e-04 - val_loss: 2.6041e-04\n",
      "Epoch 227/300\n",
      "1000/1000 [==============================] - 0s 156us/step - loss: 1.5454e-04 - val_loss: 2.9201e-04\n",
      "Epoch 228/300\n",
      "1000/1000 [==============================] - 0s 150us/step - loss: 1.5287e-04 - val_loss: 3.6383e-04\n",
      "Epoch 229/300\n",
      "1000/1000 [==============================] - 0s 151us/step - loss: 1.5830e-04 - val_loss: 4.2873e-04\n",
      "Epoch 230/300\n",
      "1000/1000 [==============================] - 0s 146us/step - loss: 1.5869e-04 - val_loss: 4.4550e-04\n",
      "Epoch 231/300\n",
      "1000/1000 [==============================] - 0s 164us/step - loss: 1.5510e-04 - val_loss: 4.3179e-04\n",
      "Epoch 232/300\n",
      "1000/1000 [==============================] - 0s 149us/step - loss: 1.5309e-04 - val_loss: 4.0373e-04\n",
      "Epoch 233/300\n",
      "1000/1000 [==============================] - 0s 155us/step - loss: 1.5403e-04 - val_loss: 3.7317e-04\n",
      "Epoch 234/300\n",
      "1000/1000 [==============================] - 0s 155us/step - loss: 1.5434e-04 - val_loss: 3.5023e-04\n",
      "Epoch 235/300\n",
      "1000/1000 [==============================] - 0s 148us/step - loss: 1.5630e-04 - val_loss: 3.3706e-04\n",
      "Epoch 236/300\n",
      "1000/1000 [==============================] - 0s 154us/step - loss: 1.5407e-04 - val_loss: 3.3588e-04\n",
      "Epoch 237/300\n",
      "1000/1000 [==============================] - 0s 158us/step - loss: 1.5415e-04 - val_loss: 3.4190e-04\n",
      "Epoch 238/300\n",
      "1000/1000 [==============================] - 0s 152us/step - loss: 1.5154e-04 - val_loss: 3.5705e-04\n",
      "Epoch 239/300\n",
      "1000/1000 [==============================] - 0s 151us/step - loss: 1.5205e-04 - val_loss: 3.6995e-04\n",
      "Epoch 240/300\n",
      "1000/1000 [==============================] - 0s 161us/step - loss: 1.5087e-04 - val_loss: 3.8595e-04\n",
      "Epoch 241/300\n",
      "1000/1000 [==============================] - 0s 159us/step - loss: 1.5189e-04 - val_loss: 3.8979e-04\n",
      "Epoch 242/300\n",
      "1000/1000 [==============================] - 0s 147us/step - loss: 1.5107e-04 - val_loss: 3.9948e-04\n",
      "Epoch 243/300\n",
      "1000/1000 [==============================] - 0s 153us/step - loss: 1.5233e-04 - val_loss: 3.9583e-04\n",
      "Epoch 244/300\n",
      "1000/1000 [==============================] - 0s 156us/step - loss: 1.5139e-04 - val_loss: 4.0508e-04\n",
      "Epoch 245/300\n",
      "1000/1000 [==============================] - 0s 155us/step - loss: 1.5278e-04 - val_loss: 4.0099e-04\n",
      "Epoch 246/300\n",
      "1000/1000 [==============================] - 0s 151us/step - loss: 1.5179e-04 - val_loss: 4.1289e-04\n",
      "Epoch 247/300\n",
      "1000/1000 [==============================] - 0s 166us/step - loss: 1.5303e-04 - val_loss: 4.1110e-04\n",
      "Epoch 248/300\n",
      "1000/1000 [==============================] - 0s 159us/step - loss: 1.5228e-04 - val_loss: 4.2398e-04\n",
      "Epoch 249/300\n",
      "1000/1000 [==============================] - 0s 155us/step - loss: 1.5326e-04 - val_loss: 4.2498e-04\n",
      "Epoch 250/300\n",
      "1000/1000 [==============================] - 0s 158us/step - loss: 1.5288e-04 - val_loss: 4.3738e-04\n",
      "Epoch 251/300\n",
      "1000/1000 [==============================] - 0s 152us/step - loss: 1.5358e-04 - val_loss: 4.4223e-04\n",
      "Epoch 252/300\n",
      "1000/1000 [==============================] - 0s 152us/step - loss: 1.5360e-04 - val_loss: 4.5416e-04\n",
      "Epoch 253/300\n",
      "1000/1000 [==============================] - 0s 157us/step - loss: 1.5406e-04 - val_loss: 4.6285e-04\n",
      "Epoch 254/300\n",
      "1000/1000 [==============================] - 0s 162us/step - loss: 1.5433e-04 - val_loss: 4.7499e-04\n",
      "Epoch 255/300\n",
      "1000/1000 [==============================] - 0s 158us/step - loss: 1.5471e-04 - val_loss: 4.8718e-04\n",
      "Epoch 256/300\n",
      "1000/1000 [==============================] - 0s 196us/step - loss: 1.5512e-04 - val_loss: 5.0088e-04\n",
      "Epoch 257/300\n",
      "1000/1000 [==============================] - 0s 197us/step - loss: 1.5556e-04 - val_loss: 5.1589e-04\n",
      "Epoch 258/300\n",
      "1000/1000 [==============================] - 0s 196us/step - loss: 1.5603e-04 - val_loss: 5.3202e-04\n",
      "Epoch 259/300\n",
      "1000/1000 [==============================] - 0s 177us/step - loss: 1.5650e-04 - val_loss: 5.4863e-04\n",
      "Epoch 260/300\n",
      "1000/1000 [==============================] - 0s 188us/step - loss: 1.5704e-04 - val_loss: 5.6680e-04\n",
      "Epoch 261/300\n",
      "1000/1000 [==============================] - 0s 177us/step - loss: 1.5762e-04 - val_loss: 5.8656e-04\n",
      "Epoch 262/300\n",
      "1000/1000 [==============================] - 0s 189us/step - loss: 1.5824e-04 - val_loss: 6.0732e-04\n",
      "Epoch 263/300\n",
      "1000/1000 [==============================] - 0s 169us/step - loss: 1.5892e-04 - val_loss: 6.2789e-04\n",
      "Epoch 264/300\n",
      "1000/1000 [==============================] - 0s 183us/step - loss: 1.5955e-04 - val_loss: 6.4893e-04\n",
      "Epoch 265/300\n",
      "1000/1000 [==============================] - 0s 198us/step - loss: 1.6025e-04 - val_loss: 6.7001e-04\n",
      "Epoch 266/300\n",
      "1000/1000 [==============================] - 0s 191us/step - loss: 1.6103e-04 - val_loss: 6.9200e-04\n",
      "Epoch 267/300\n",
      "1000/1000 [==============================] - 0s 185us/step - loss: 1.6186e-04 - val_loss: 7.1523e-04\n",
      "Epoch 268/300\n",
      "1000/1000 [==============================] - 0s 183us/step - loss: 1.6276e-04 - val_loss: 7.3699e-04\n",
      "Epoch 269/300\n",
      "1000/1000 [==============================] - 0s 190us/step - loss: 1.6371e-04 - val_loss: 7.5804e-04\n",
      "Epoch 270/300\n",
      "1000/1000 [==============================] - 0s 163us/step - loss: 1.6473e-04 - val_loss: 7.7981e-04\n",
      "Epoch 271/300\n",
      "1000/1000 [==============================] - 0s 177us/step - loss: 1.6589e-04 - val_loss: 7.9916e-04\n",
      "Epoch 272/300\n",
      "1000/1000 [==============================] - 0s 187us/step - loss: 1.6709e-04 - val_loss: 8.1709e-04\n",
      "Epoch 273/300\n",
      "1000/1000 [==============================] - 0s 163us/step - loss: 1.6836e-04 - val_loss: 8.3292e-04\n",
      "Epoch 274/300\n",
      "1000/1000 [==============================] - 0s 166us/step - loss: 1.6986e-04 - val_loss: 8.4659e-04\n",
      "Epoch 275/300\n",
      "1000/1000 [==============================] - 0s 164us/step - loss: 1.7144e-04 - val_loss: 8.5473e-04\n",
      "Epoch 276/300\n",
      "1000/1000 [==============================] - 0s 169us/step - loss: 1.7320e-04 - val_loss: 8.5870e-04\n",
      "Epoch 277/300\n",
      "1000/1000 [==============================] - 0s 165us/step - loss: 1.7513e-04 - val_loss: 8.5665e-04\n",
      "Epoch 278/300\n",
      "1000/1000 [==============================] - 0s 156us/step - loss: 1.7737e-04 - val_loss: 8.5054e-04\n",
      "Epoch 279/300\n",
      "1000/1000 [==============================] - 0s 171us/step - loss: 1.7991e-04 - val_loss: 8.3204e-04\n",
      "Epoch 280/300\n",
      "1000/1000 [==============================] - 0s 190us/step - loss: 1.8249e-04 - val_loss: 8.0844e-04\n",
      "Epoch 281/300\n",
      "1000/1000 [==============================] - 0s 174us/step - loss: 1.8513e-04 - val_loss: 7.7979e-04\n",
      "Epoch 282/300\n",
      "1000/1000 [==============================] - 0s 213us/step - loss: 1.8819e-04 - val_loss: 7.3438e-04\n",
      "Epoch 283/300\n",
      "1000/1000 [==============================] - 0s 195us/step - loss: 1.8980e-04 - val_loss: 6.8784e-04\n",
      "Epoch 284/300\n",
      "1000/1000 [==============================] - 0s 156us/step - loss: 1.9338e-04 - val_loss: 6.1794e-04\n",
      "Epoch 285/300\n",
      "1000/1000 [==============================] - 0s 147us/step - loss: 1.9580e-04 - val_loss: 5.3299e-04\n",
      "Epoch 286/300\n",
      "1000/1000 [==============================] - 0s 156us/step - loss: 2.0073e-04 - val_loss: 4.4244e-04\n",
      "Epoch 287/300\n"
     ]
    },
    {
     "name": "stdout",
     "output_type": "stream",
     "text": [
      "1000/1000 [==============================] - 0s 156us/step - loss: 2.0643e-04 - val_loss: 3.8245e-04\n",
      "Epoch 288/300\n",
      "1000/1000 [==============================] - 0s 156us/step - loss: 2.0372e-04 - val_loss: 3.3523e-04\n",
      "Epoch 289/300\n",
      "1000/1000 [==============================] - 0s 141us/step - loss: 2.1378e-04 - val_loss: 2.9805e-04\n",
      "Epoch 290/300\n",
      "1000/1000 [==============================] - 0s 156us/step - loss: 2.0250e-04 - val_loss: 2.8603e-04\n",
      "Epoch 291/300\n",
      "1000/1000 [==============================] - 0s 176us/step - loss: 2.0140e-04 - val_loss: 2.8133e-04\n",
      "Epoch 292/300\n",
      "1000/1000 [==============================] - 0s 141us/step - loss: 1.8000e-04 - val_loss: 2.8616e-04\n",
      "Epoch 293/300\n",
      "1000/1000 [==============================] - 0s 155us/step - loss: 1.6664e-04 - val_loss: 3.0949e-04\n",
      "Epoch 294/300\n",
      "1000/1000 [==============================] - 0s 156us/step - loss: 1.5078e-04 - val_loss: 3.6435e-04\n",
      "Epoch 295/300\n",
      "1000/1000 [==============================] - 0s 141us/step - loss: 1.5063e-04 - val_loss: 4.3865e-04\n",
      "Epoch 296/300\n",
      "1000/1000 [==============================] - 0s 156us/step - loss: 1.5267e-04 - val_loss: 4.8894e-04\n",
      "Epoch 297/300\n",
      "1000/1000 [==============================] - 0s 125us/step - loss: 1.5173e-04 - val_loss: 4.8043e-04\n",
      "Epoch 298/300\n",
      "1000/1000 [==============================] - 0s 125us/step - loss: 1.5063e-04 - val_loss: 4.6801e-04\n",
      "Epoch 299/300\n",
      "1000/1000 [==============================] - 0s 149us/step - loss: 1.5350e-04 - val_loss: 4.3053e-04\n",
      "Epoch 300/300\n",
      "1000/1000 [==============================] - 0s 139us/step - loss: 1.5034e-04 - val_loss: 4.2364e-04\n"
     ]
    }
   ],
   "source": [
    "#Build the model\n",
    "model = Sequential()\n",
    "model.add(LSTM(64,input_shape=(7,1)))\n",
    "model.add(Dense(1))\n",
    "model.compile(optimizer='adam',loss='mse')\n",
    "#Reshape data for (Sample,Timestep,Features) \n",
    "X_train = X_train.reshape((X_train.shape[0],X_train.shape[1],1))\n",
    "X_test = X_test.reshape((X_test.shape[0],X_test.shape[1],1))\n",
    "#Fit model with history to check for overfitting\n",
    "history = model.fit(X_train,y_train,epochs=300,validation_data=(X_test,y_test),shuffle=False)"
   ]
  },
  {
   "cell_type": "markdown",
   "metadata": {
    "_uuid": "43066552e2d9c0dde9483a6750bb846a36d171fc"
   },
   "source": [
    "## Step 5: Checking model performance\n",
    "\n",
    "With our model fit we can now make predictions on both our training and testing sets."
   ]
  },
  {
   "cell_type": "code",
   "execution_count": 8,
   "metadata": {
    "_uuid": "32928c6ffacfa694c0a6323016116b6507dd96ec"
   },
   "outputs": [
    {
     "data": {
      "text/plain": [
       "[<matplotlib.lines.Line2D at 0x1c1c5a97ac8>]"
      ]
     },
     "execution_count": 8,
     "metadata": {},
     "output_type": "execute_result"
    },
    {
     "data": {
      "image/png": "[encoded data removed]",
      "text/plain": [
       "<Figure size 432x288 with 1 Axes>"
      ]
     },
     "metadata": {
      "needs_background": "light"
     },
     "output_type": "display_data"
    }
   ],
   "source": [
    "plt.plot(history.history['loss'])\n",
    "plt.plot(history.history['val_loss'])"
   ]
  },
  {
   "cell_type": "code",
   "execution_count": 9,
   "metadata": {
    "_uuid": "5a2a0b8d8e75a467a0f639e73ffb70fe9579c705"
   },
   "outputs": [
    {
     "data": {
      "text/plain": [
       "array([[0.53324732],\n",
       "       [0.53097957],\n",
       "       [0.5909131 ],\n",
       "       [0.5891313 ],\n",
       "       [0.59358582],\n",
       "       [0.60338576],\n",
       "       [0.61342868]])"
      ]
     },
     "execution_count": 9,
     "metadata": {},
     "output_type": "execute_result"
    }
   ],
   "source": [
    "X_test[0]"
   ]
  },
  {
   "cell_type": "code",
   "execution_count": 10,
   "metadata": {
    "_uuid": "19888ba63d02db6f4cbca8b8841fcf99676fa529"
   },
   "outputs": [
    {
     "data": {
      "text/plain": [
       "[<matplotlib.lines.Line2D at 0x1c1c80900b8>]"
      ]
     },
     "execution_count": 10,
     "metadata": {},
     "output_type": "execute_result"
    },
    {
     "data": {
      "image/png": "[encoded data removed]",
      "text/plain": [
       "<Figure size 432x288 with 1 Axes>"
      ]
     },
     "metadata": {
      "needs_background": "light"
     },
     "output_type": "display_data"
    }
   ],
   "source": [
    "Xt = model.predict(X_test)\n",
    "plt.plot(scl.inverse_transform(y_test.reshape(-1,1)))\n",
    "plt.plot(scl.inverse_transform(Xt))"
   ]
  },
  {
   "cell_type": "code",
   "execution_count": 11,
   "metadata": {
    "_uuid": "0ae752f7a3b04ddf98986ddf095a737c4b92341c"
   },
   "outputs": [
    {
     "name": "stdout",
     "output_type": "stream",
     "text": [
      "predicted:[[161.94382]], actual:[[156.49]]\n"
     ]
    }
   ],
   "source": [
    "act = []\n",
    "pred = []\n",
    "#for i in range(250):\n",
    "i=249\n",
    "Xt = model.predict(X_test[i].reshape(1,7,1))\n",
    "print('predicted:{0}, actual:{1}'.format(scl.inverse_transform(Xt),scl.inverse_transform(y_test[i].reshape(-1,1))))\n",
    "pred.append(scl.inverse_transform(Xt))\n",
    "act.append(scl.inverse_transform(y_test[i].reshape(-1,1)))"
   ]
  },
  {
   "cell_type": "code",
   "execution_count": 12,
   "metadata": {
    "_uuid": "948d6e268fd306d33bfe76efb3bbdfc708729f16"
   },
   "outputs": [],
   "source": [
    "result_df = pd.DataFrame({'pred':list(np.reshape(pred, (-1))),'act':list(np.reshape(act, (-1)))})"
   ]
  },
  {
   "cell_type": "code",
   "execution_count": 13,
   "metadata": {
    "_uuid": "da77a3b1f91a8fbc2e2ddda8fb5cf36a4e6c07be"
   },
   "outputs": [],
   "source": [
    "#result_df.plot(kind='line')"
   ]
  },
  {
   "cell_type": "code",
   "execution_count": 13,
   "metadata": {
    "_uuid": "b04e3d0a358085e327e968210a0c669d52dbc9f8"
   },
   "outputs": [
    {
     "data": {
      "image/png": "[encoded data removed]",
      "text/plain": [
       "<Figure size 432x288 with 1 Axes>"
      ]
     },
     "metadata": {
      "needs_background": "light"
     },
     "output_type": "display_data"
    }
   ],
   "source": [
    "# plot original data\n",
    "plt.plot(scl.inverse_transform(y.reshape(-1,1)), color='k')\n",
    "\n",
    "Xtrain = model.predict(X_train)\n",
    "Xtest = model.predict(X_test)\n",
    "\n",
    "# plt.plot(scl.inverse_transform(y_test.reshape(-1,1)))\n",
    "split_pt = int(X.shape[0]*0.80) + 7 # window_size\n",
    "plt.plot(np.arange(7,split_pt,1), scl.inverse_transform(Xtrain), color='b')\n",
    "plt.plot(np.arange(split_pt,split_pt+len(Xtest),1), scl.inverse_transform(Xtest), color='r')\n",
    "\n",
    "# pretty up graph\n",
    "plt.xlabel('day')\n",
    "plt.ylabel('price of AAPL stock')\n",
    "plt.legend(['original series','training fit','testing fit'],loc='center left', bbox_to_anchor=(1, 0.5))\n",
    "plt.show()\n"
   ]
  },
  {
   "cell_type": "code",
   "execution_count": 14,
   "metadata": {
    "_uuid": "a82d00a4631b53cbc5f0492747199c76db38d3bf"
   },
   "outputs": [
    {
     "data": {
      "text/plain": [
       "array([[0.93399212],\n",
       "       [0.93723177],\n",
       "       [0.90847987],\n",
       "       [0.90046173],\n",
       "       [0.90418733],\n",
       "       [0.90702202],\n",
       "       [0.84806038]])"
      ]
     },
     "execution_count": 14,
     "metadata": {},
     "output_type": "execute_result"
    }
   ],
   "source": [
    "X_test[249]"
   ]
  },
  {
   "cell_type": "code",
   "execution_count": 16,
   "metadata": {
    "_uuid": "63a7c53f888b7efb4c99e81b21482d4eb5c690a3"
   },
   "outputs": [],
   "source": [
    "# from the plot above we can see that the testing fit is already very near to real result."
   ]
  }
 ],
 "metadata": {
  "kernelspec": {
   "display_name": "Python 3",
   "language": "python",
   "name": "python3"
  },
  "language_info": {
   "codemirror_mode": {
    "name": "ipython",
    "version": 3
   },
   "file_extension": ".py",
   "mimetype": "text/x-python",
   "name": "python",
   "nbconvert_exporter": "python",
   "pygments_lexer": "ipython3",
   "version": "3.6.7"
  }
 },
 "nbformat": 4,
 "nbformat_minor": 1
}
